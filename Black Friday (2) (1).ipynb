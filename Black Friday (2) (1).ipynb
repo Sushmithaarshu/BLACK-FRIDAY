{
 "cells": [
  {
   "cell_type": "code",
   "execution_count": 1,
   "id": "0ce22f2a",
   "metadata": {},
   "outputs": [],
   "source": [
    "import pandas as pd\n",
    "from scipy import stats\n",
    "import matplotlib.pyplot as plt\n",
    "import seaborn as sns\n",
    "import statsmodels.api as sm\n",
    "from sklearn.model_selection import train_test_split"
   ]
  },
  {
   "cell_type": "code",
   "execution_count": 2,
   "id": "f976f926",
   "metadata": {},
   "outputs": [],
   "source": [
    "blk=pd.read_csv(\"https://raw.githubusercontent.com/stellahrotich/MLProjects101/master/BlackFriday.csv\")\n"
   ]
  },
  {
   "cell_type": "code",
   "execution_count": 3,
   "id": "c38699b0",
   "metadata": {},
   "outputs": [
    {
     "data": {
      "text/html": [
       "<div>\n",
       "<style scoped>\n",
       "    .dataframe tbody tr th:only-of-type {\n",
       "        vertical-align: middle;\n",
       "    }\n",
       "\n",
       "    .dataframe tbody tr th {\n",
       "        vertical-align: top;\n",
       "    }\n",
       "\n",
       "    .dataframe thead th {\n",
       "        text-align: right;\n",
       "    }\n",
       "</style>\n",
       "<table border=\"1\" class=\"dataframe\">\n",
       "  <thead>\n",
       "    <tr style=\"text-align: right;\">\n",
       "      <th></th>\n",
       "      <th>User_ID</th>\n",
       "      <th>Product_ID</th>\n",
       "      <th>Gender</th>\n",
       "      <th>Age</th>\n",
       "      <th>Occupation</th>\n",
       "      <th>City_Category</th>\n",
       "      <th>Stay_In_Current_City_Years</th>\n",
       "      <th>Marital_Status</th>\n",
       "      <th>Product_Category_1</th>\n",
       "      <th>Product_Category_2</th>\n",
       "      <th>Product_Category_3</th>\n",
       "      <th>Purchase</th>\n",
       "    </tr>\n",
       "  </thead>\n",
       "  <tbody>\n",
       "    <tr>\n",
       "      <th>0</th>\n",
       "      <td>1000001</td>\n",
       "      <td>P00069042</td>\n",
       "      <td>F</td>\n",
       "      <td>0-17</td>\n",
       "      <td>10</td>\n",
       "      <td>A</td>\n",
       "      <td>2</td>\n",
       "      <td>0</td>\n",
       "      <td>3</td>\n",
       "      <td>NaN</td>\n",
       "      <td>NaN</td>\n",
       "      <td>8370</td>\n",
       "    </tr>\n",
       "    <tr>\n",
       "      <th>1</th>\n",
       "      <td>1000001</td>\n",
       "      <td>P00248942</td>\n",
       "      <td>F</td>\n",
       "      <td>0-17</td>\n",
       "      <td>10</td>\n",
       "      <td>A</td>\n",
       "      <td>2</td>\n",
       "      <td>0</td>\n",
       "      <td>1</td>\n",
       "      <td>6.0</td>\n",
       "      <td>14.0</td>\n",
       "      <td>15200</td>\n",
       "    </tr>\n",
       "    <tr>\n",
       "      <th>2</th>\n",
       "      <td>1000001</td>\n",
       "      <td>P00087842</td>\n",
       "      <td>F</td>\n",
       "      <td>0-17</td>\n",
       "      <td>10</td>\n",
       "      <td>A</td>\n",
       "      <td>2</td>\n",
       "      <td>0</td>\n",
       "      <td>12</td>\n",
       "      <td>NaN</td>\n",
       "      <td>NaN</td>\n",
       "      <td>1422</td>\n",
       "    </tr>\n",
       "    <tr>\n",
       "      <th>3</th>\n",
       "      <td>1000001</td>\n",
       "      <td>P00085442</td>\n",
       "      <td>F</td>\n",
       "      <td>0-17</td>\n",
       "      <td>10</td>\n",
       "      <td>A</td>\n",
       "      <td>2</td>\n",
       "      <td>0</td>\n",
       "      <td>12</td>\n",
       "      <td>14.0</td>\n",
       "      <td>NaN</td>\n",
       "      <td>1057</td>\n",
       "    </tr>\n",
       "    <tr>\n",
       "      <th>4</th>\n",
       "      <td>1000002</td>\n",
       "      <td>P00285442</td>\n",
       "      <td>M</td>\n",
       "      <td>55+</td>\n",
       "      <td>16</td>\n",
       "      <td>C</td>\n",
       "      <td>4+</td>\n",
       "      <td>0</td>\n",
       "      <td>8</td>\n",
       "      <td>NaN</td>\n",
       "      <td>NaN</td>\n",
       "      <td>7969</td>\n",
       "    </tr>\n",
       "  </tbody>\n",
       "</table>\n",
       "</div>"
      ],
      "text/plain": [
       "   User_ID Product_ID Gender   Age  Occupation City_Category  \\\n",
       "0  1000001  P00069042      F  0-17          10             A   \n",
       "1  1000001  P00248942      F  0-17          10             A   \n",
       "2  1000001  P00087842      F  0-17          10             A   \n",
       "3  1000001  P00085442      F  0-17          10             A   \n",
       "4  1000002  P00285442      M   55+          16             C   \n",
       "\n",
       "  Stay_In_Current_City_Years  Marital_Status  Product_Category_1  \\\n",
       "0                          2               0                   3   \n",
       "1                          2               0                   1   \n",
       "2                          2               0                  12   \n",
       "3                          2               0                  12   \n",
       "4                         4+               0                   8   \n",
       "\n",
       "   Product_Category_2  Product_Category_3  Purchase  \n",
       "0                 NaN                 NaN      8370  \n",
       "1                 6.0                14.0     15200  \n",
       "2                 NaN                 NaN      1422  \n",
       "3                14.0                 NaN      1057  \n",
       "4                 NaN                 NaN      7969  "
      ]
     },
     "execution_count": 3,
     "metadata": {},
     "output_type": "execute_result"
    }
   ],
   "source": [
    "blk.head(5)"
   ]
  },
  {
   "cell_type": "code",
   "execution_count": 4,
   "id": "e8bc844b",
   "metadata": {},
   "outputs": [],
   "source": [
    "blk = blk.astype({\"Occupation\": str}, errors='ignore') \n",
    "blk = blk.astype({\"Product_Category_1\": str}, errors='ignore')\n",
    "blk = blk.astype({\"Marital_Status\": str}, errors='ignore')"
   ]
  },
  {
   "cell_type": "code",
   "execution_count": 5,
   "id": "7df78f9a",
   "metadata": {},
   "outputs": [
    {
     "data": {
      "text/plain": [
       "User_ID                            0\n",
       "Product_ID                         0\n",
       "Gender                             0\n",
       "Age                                0\n",
       "Occupation                         0\n",
       "City_Category                      0\n",
       "Stay_In_Current_City_Years         0\n",
       "Marital_Status                     0\n",
       "Product_Category_1                 0\n",
       "Product_Category_2            166986\n",
       "Product_Category_3            373299\n",
       "Purchase                           0\n",
       "dtype: int64"
      ]
     },
     "execution_count": 5,
     "metadata": {},
     "output_type": "execute_result"
    }
   ],
   "source": [
    "blk.isnull().sum()"
   ]
  },
  {
   "cell_type": "code",
   "execution_count": 6,
   "id": "2ec82029",
   "metadata": {},
   "outputs": [
    {
     "data": {
      "text/plain": [
       "(537577, 12)"
      ]
     },
     "execution_count": 6,
     "metadata": {},
     "output_type": "execute_result"
    }
   ],
   "source": [
    "blk.shape"
   ]
  },
  {
   "cell_type": "code",
   "execution_count": 7,
   "id": "8360712b",
   "metadata": {},
   "outputs": [
    {
     "data": {
      "text/plain": [
       "count     537577\n",
       "unique         2\n",
       "top            M\n",
       "freq      405380\n",
       "Name: Gender, dtype: object"
      ]
     },
     "execution_count": 7,
     "metadata": {},
     "output_type": "execute_result"
    }
   ],
   "source": [
    "blk.Gender.describe()"
   ]
  },
  {
   "cell_type": "code",
   "execution_count": 8,
   "id": "026d5cce",
   "metadata": {
    "scrolled": true
   },
   "outputs": [
    {
     "data": {
      "text/plain": [
       "<AxesSubplot:xlabel='Gender', ylabel='count'>"
      ]
     },
     "execution_count": 8,
     "metadata": {},
     "output_type": "execute_result"
    },
    {
     "data": {
      "image/png": "[encoded data removed]",
      "text/plain": [
       "<Figure size 432x288 with 1 Axes>"
      ]
     },
     "metadata": {
      "needs_background": "light"
     },
     "output_type": "display_data"
    }
   ],
   "source": [
    "sns.countplot(x=\"Gender\",data=blk)"
   ]
  },
  {
   "cell_type": "code",
   "execution_count": 9,
   "id": "e73f5d4a",
   "metadata": {},
   "outputs": [
    {
     "data": {
      "text/plain": [
       "count     537577\n",
       "unique         7\n",
       "top        26-35\n",
       "freq      214690\n",
       "Name: Age, dtype: object"
      ]
     },
     "execution_count": 9,
     "metadata": {},
     "output_type": "execute_result"
    }
   ],
   "source": [
    "blk.Age.describe()"
   ]
  },
  {
   "cell_type": "code",
   "execution_count": 10,
   "id": "cffd915e",
   "metadata": {},
   "outputs": [
    {
     "data": {
      "text/plain": [
       "array(['0-17', '55+', '26-35', '46-50', '51-55', '36-45', '18-25'],\n",
       "      dtype=object)"
      ]
     },
     "execution_count": 10,
     "metadata": {},
     "output_type": "execute_result"
    }
   ],
   "source": [
    "blk.Age.unique()"
   ]
  },
  {
   "cell_type": "code",
   "execution_count": 11,
   "id": "5e5fafa4",
   "metadata": {},
   "outputs": [
    {
     "data": {
      "text/plain": [
       "<AxesSubplot:xlabel='Age', ylabel='count'>"
      ]
     },
     "execution_count": 11,
     "metadata": {},
     "output_type": "execute_result"
    },
    {
     "data": {
      "image/png": "[encoded data removed]",
      "text/plain": [
       "<Figure size 432x288 with 1 Axes>"
      ]
     },
     "metadata": {
      "needs_background": "light"
     },
     "output_type": "display_data"
    }
   ],
   "source": [
    "sns.countplot(x=\"Age\",data=blk)"
   ]
  },
  {
   "cell_type": "code",
   "execution_count": 12,
   "id": "64652613",
   "metadata": {},
   "outputs": [
    {
     "data": {
      "text/plain": [
       "count     537577\n",
       "unique        21\n",
       "top            4\n",
       "freq       70862\n",
       "Name: Occupation, dtype: object"
      ]
     },
     "execution_count": 12,
     "metadata": {},
     "output_type": "execute_result"
    }
   ],
   "source": [
    "blk.Occupation.describe()"
   ]
  },
  {
   "cell_type": "code",
   "execution_count": 13,
   "id": "a0227702",
   "metadata": {},
   "outputs": [
    {
     "data": {
      "text/plain": [
       "21"
      ]
     },
     "execution_count": 13,
     "metadata": {},
     "output_type": "execute_result"
    }
   ],
   "source": [
    "blk.Occupation.nunique()"
   ]
  },
  {
   "cell_type": "code",
   "execution_count": 14,
   "id": "eccebdcc",
   "metadata": {},
   "outputs": [
    {
     "data": {
      "text/plain": [
       "<AxesSubplot:xlabel='Occupation', ylabel='count'>"
      ]
     },
     "execution_count": 14,
     "metadata": {},
     "output_type": "execute_result"
    },
    {
     "data": {
      "image/png": "[encoded data removed]",
      "text/plain": [
       "<Figure size 432x288 with 1 Axes>"
      ]
     },
     "metadata": {
      "needs_background": "light"
     },
     "output_type": "display_data"
    }
   ],
   "source": [
    "sns.countplot(x=\"Occupation\",data=blk)"
   ]
  },
  {
   "cell_type": "code",
   "execution_count": 15,
   "id": "8593b004",
   "metadata": {},
   "outputs": [
    {
     "data": {
      "text/plain": [
       "count     537577\n",
       "unique         3\n",
       "top            B\n",
       "freq      226493\n",
       "Name: City_Category, dtype: object"
      ]
     },
     "execution_count": 15,
     "metadata": {},
     "output_type": "execute_result"
    }
   ],
   "source": [
    "blk.City_Category.describe()"
   ]
  },
  {
   "cell_type": "code",
   "execution_count": 16,
   "id": "4fa5fecb",
   "metadata": {},
   "outputs": [
    {
     "data": {
      "text/plain": [
       "3"
      ]
     },
     "execution_count": 16,
     "metadata": {},
     "output_type": "execute_result"
    }
   ],
   "source": [
    "blk.City_Category.nunique()"
   ]
  },
  {
   "cell_type": "code",
   "execution_count": 17,
   "id": "75b9992d",
   "metadata": {},
   "outputs": [
    {
     "data": {
      "text/plain": [
       "<AxesSubplot:xlabel='City_Category', ylabel='count'>"
      ]
     },
     "execution_count": 17,
     "metadata": {},
     "output_type": "execute_result"
    },
    {
     "data": {
      "image/png": "[encoded data removed]",
      "text/plain": [
       "<Figure size 432x288 with 1 Axes>"
      ]
     },
     "metadata": {
      "needs_background": "light"
     },
     "output_type": "display_data"
    }
   ],
   "source": [
    "sns.countplot(x=\"City_Category\",data=blk)"
   ]
  },
  {
   "cell_type": "code",
   "execution_count": 18,
   "id": "6e38dc5a",
   "metadata": {},
   "outputs": [
    {
     "data": {
      "text/plain": [
       "count     537577\n",
       "unique         5\n",
       "top            1\n",
       "freq      189192\n",
       "Name: Stay_In_Current_City_Years, dtype: object"
      ]
     },
     "execution_count": 18,
     "metadata": {},
     "output_type": "execute_result"
    }
   ],
   "source": [
    "blk.Stay_In_Current_City_Years.describe()"
   ]
  },
  {
   "cell_type": "code",
   "execution_count": 19,
   "id": "70a3dab5",
   "metadata": {},
   "outputs": [
    {
     "data": {
      "text/plain": [
       "5"
      ]
     },
     "execution_count": 19,
     "metadata": {},
     "output_type": "execute_result"
    }
   ],
   "source": [
    "blk.Stay_In_Current_City_Years.nunique()"
   ]
  },
  {
   "cell_type": "code",
   "execution_count": 20,
   "id": "60529fcc",
   "metadata": {},
   "outputs": [
    {
     "data": {
      "text/plain": [
       "<AxesSubplot:xlabel='Stay_In_Current_City_Years', ylabel='count'>"
      ]
     },
     "execution_count": 20,
     "metadata": {},
     "output_type": "execute_result"
    },
    {
     "data": {
      "image/png": "[encoded data removed]",
      "text/plain": [
       "<Figure size 432x288 with 1 Axes>"
      ]
     },
     "metadata": {
      "needs_background": "light"
     },
     "output_type": "display_data"
    }
   ],
   "source": [
    "sns.countplot(x=\"Stay_In_Current_City_Years\",data=blk)"
   ]
  },
  {
   "cell_type": "code",
   "execution_count": 21,
   "id": "6873254e",
   "metadata": {},
   "outputs": [
    {
     "data": {
      "text/plain": [
       "count     537577\n",
       "unique         2\n",
       "top            0\n",
       "freq      317817\n",
       "Name: Marital_Status, dtype: object"
      ]
     },
     "execution_count": 21,
     "metadata": {},
     "output_type": "execute_result"
    }
   ],
   "source": [
    "blk.Marital_Status.describe()"
   ]
  },
  {
   "cell_type": "code",
   "execution_count": 22,
   "id": "69bb45a2",
   "metadata": {},
   "outputs": [
    {
     "data": {
      "text/plain": [
       "2"
      ]
     },
     "execution_count": 22,
     "metadata": {},
     "output_type": "execute_result"
    }
   ],
   "source": [
    "blk.Marital_Status.nunique()"
   ]
  },
  {
   "cell_type": "code",
   "execution_count": 23,
   "id": "3092eb8c",
   "metadata": {},
   "outputs": [
    {
     "data": {
      "text/plain": [
       "<AxesSubplot:xlabel='Marital_Status', ylabel='count'>"
      ]
     },
     "execution_count": 23,
     "metadata": {},
     "output_type": "execute_result"
    },
    {
     "data": {
      "image/png": "[encoded data removed]",
      "text/plain": [
       "<Figure size 432x288 with 1 Axes>"
      ]
     },
     "metadata": {
      "needs_background": "light"
     },
     "output_type": "display_data"
    }
   ],
   "source": [
    "sns.countplot(x=\"Marital_Status\",data=blk)"
   ]
  },
  {
   "cell_type": "code",
   "execution_count": 24,
   "id": "7d7de20e",
   "metadata": {},
   "outputs": [
    {
     "data": {
      "text/plain": [
       "count     537577\n",
       "unique        18\n",
       "top            5\n",
       "freq      148592\n",
       "Name: Product_Category_1, dtype: object"
      ]
     },
     "execution_count": 24,
     "metadata": {},
     "output_type": "execute_result"
    }
   ],
   "source": [
    "blk.Product_Category_1.describe()"
   ]
  },
  {
   "cell_type": "code",
   "execution_count": 25,
   "id": "0154722c",
   "metadata": {},
   "outputs": [
    {
     "data": {
      "text/plain": [
       "18"
      ]
     },
     "execution_count": 25,
     "metadata": {},
     "output_type": "execute_result"
    }
   ],
   "source": [
    "blk.Product_Category_1.nunique()"
   ]
  },
  {
   "cell_type": "code",
   "execution_count": 26,
   "id": "dc9854ce",
   "metadata": {},
   "outputs": [
    {
     "data": {
      "text/plain": [
       "<AxesSubplot:xlabel='Product_Category_1', ylabel='count'>"
      ]
     },
     "execution_count": 26,
     "metadata": {},
     "output_type": "execute_result"
    },
    {
     "data": {
      "image/png": "[encoded data removed]",
      "text/plain": [
       "<Figure size 432x288 with 1 Axes>"
      ]
     },
     "metadata": {
      "needs_background": "light"
     },
     "output_type": "display_data"
    }
   ],
   "source": [
    "sns.countplot(x=\"Product_Category_1\",data=blk)"
   ]
  },
  {
   "cell_type": "code",
   "execution_count": 27,
   "id": "6bb2e474",
   "metadata": {},
   "outputs": [
    {
     "data": {
      "text/plain": [
       "count    370591.000000\n",
       "mean          9.842144\n",
       "std           5.087259\n",
       "min           2.000000\n",
       "25%           5.000000\n",
       "50%           9.000000\n",
       "75%          15.000000\n",
       "max          18.000000\n",
       "Name: Product_Category_2, dtype: float64"
      ]
     },
     "execution_count": 27,
     "metadata": {},
     "output_type": "execute_result"
    }
   ],
   "source": [
    "blk.Product_Category_2.describe()"
   ]
  },
  {
   "cell_type": "code",
   "execution_count": 28,
   "id": "9f92a38e",
   "metadata": {},
   "outputs": [
    {
     "data": {
      "text/plain": [
       "166986"
      ]
     },
     "execution_count": 28,
     "metadata": {},
     "output_type": "execute_result"
    }
   ],
   "source": [
    "blk.Product_Category_2.isnull().sum()"
   ]
  },
  {
   "cell_type": "code",
   "execution_count": 29,
   "id": "7076e8c1",
   "metadata": {},
   "outputs": [
    {
     "data": {
      "text/plain": [
       "17"
      ]
     },
     "execution_count": 29,
     "metadata": {},
     "output_type": "execute_result"
    }
   ],
   "source": [
    "blk.Product_Category_2.nunique()"
   ]
  },
  {
   "cell_type": "code",
   "execution_count": 30,
   "id": "b16bb50e",
   "metadata": {},
   "outputs": [],
   "source": [
    "blk.Product_Category_2.fillna(\"Others\",inplace=True)"
   ]
  },
  {
   "cell_type": "code",
   "execution_count": 31,
   "id": "6ef9994e",
   "metadata": {},
   "outputs": [
    {
     "data": {
      "text/plain": [
       "count    164278.000000\n",
       "mean         12.669840\n",
       "std           4.124341\n",
       "min           3.000000\n",
       "25%           9.000000\n",
       "50%          14.000000\n",
       "75%          16.000000\n",
       "max          18.000000\n",
       "Name: Product_Category_3, dtype: float64"
      ]
     },
     "execution_count": 31,
     "metadata": {},
     "output_type": "execute_result"
    }
   ],
   "source": [
    "blk.Product_Category_3.describe()"
   ]
  },
  {
   "cell_type": "code",
   "execution_count": 32,
   "id": "9ff8aea8",
   "metadata": {},
   "outputs": [
    {
     "data": {
      "text/plain": [
       "0.6944102891306734"
      ]
     },
     "execution_count": 32,
     "metadata": {},
     "output_type": "execute_result"
    }
   ],
   "source": [
    "blk.Product_Category_3.isnull().mean()"
   ]
  },
  {
   "cell_type": "code",
   "execution_count": 33,
   "id": "3603801b",
   "metadata": {},
   "outputs": [],
   "source": [
    "blk.drop([\"User_ID\",\"Product_ID\",\"Product_Category_3\"],axis=1,inplace=True)"
   ]
  },
  {
   "cell_type": "code",
   "execution_count": 34,
   "id": "ee82fcfd",
   "metadata": {},
   "outputs": [
    {
     "data": {
      "text/plain": [
       "(537577, 9)"
      ]
     },
     "execution_count": 34,
     "metadata": {},
     "output_type": "execute_result"
    }
   ],
   "source": [
    "blk.shape"
   ]
  },
  {
   "cell_type": "code",
   "execution_count": 35,
   "id": "c7ecbcd0",
   "metadata": {},
   "outputs": [],
   "source": [
    "X=blk[[\"Gender\",\"Age\",\"Occupation\",\"City_Category\",\"Stay_In_Current_City_Years\",\"Marital_Status\",\"Product_Category_1\",\"Product_Category_2\"]]"
   ]
  },
  {
   "cell_type": "code",
   "execution_count": 36,
   "id": "f29cf86d",
   "metadata": {},
   "outputs": [
    {
     "data": {
      "text/plain": [
       "(537577, 8)"
      ]
     },
     "execution_count": 36,
     "metadata": {},
     "output_type": "execute_result"
    }
   ],
   "source": [
    "X.shape"
   ]
  },
  {
   "cell_type": "code",
   "execution_count": 37,
   "id": "baa1b476",
   "metadata": {},
   "outputs": [],
   "source": [
    "X1=pd.get_dummies(X)"
   ]
  },
  {
   "cell_type": "code",
   "execution_count": 38,
   "id": "48e40082",
   "metadata": {},
   "outputs": [
    {
     "data": {
      "text/plain": [
       "(537577, 76)"
      ]
     },
     "execution_count": 38,
     "metadata": {},
     "output_type": "execute_result"
    }
   ],
   "source": [
    "X1.shape"
   ]
  },
  {
   "cell_type": "code",
   "execution_count": 39,
   "id": "d5add3c7",
   "metadata": {},
   "outputs": [
    {
     "data": {
      "text/html": [
       "<div>\n",
       "<style scoped>\n",
       "    .dataframe tbody tr th:only-of-type {\n",
       "        vertical-align: middle;\n",
       "    }\n",
       "\n",
       "    .dataframe tbody tr th {\n",
       "        vertical-align: top;\n",
       "    }\n",
       "\n",
       "    .dataframe thead th {\n",
       "        text-align: right;\n",
       "    }\n",
       "</style>\n",
       "<table border=\"1\" class=\"dataframe\">\n",
       "  <thead>\n",
       "    <tr style=\"text-align: right;\">\n",
       "      <th></th>\n",
       "      <th>Gender_F</th>\n",
       "      <th>Gender_M</th>\n",
       "      <th>Age_0-17</th>\n",
       "      <th>Age_18-25</th>\n",
       "      <th>Age_26-35</th>\n",
       "      <th>Age_36-45</th>\n",
       "      <th>Age_46-50</th>\n",
       "      <th>Age_51-55</th>\n",
       "      <th>Age_55+</th>\n",
       "      <th>Occupation_0</th>\n",
       "      <th>...</th>\n",
       "      <th>Product_Category_2_10.0</th>\n",
       "      <th>Product_Category_2_11.0</th>\n",
       "      <th>Product_Category_2_12.0</th>\n",
       "      <th>Product_Category_2_13.0</th>\n",
       "      <th>Product_Category_2_14.0</th>\n",
       "      <th>Product_Category_2_15.0</th>\n",
       "      <th>Product_Category_2_16.0</th>\n",
       "      <th>Product_Category_2_17.0</th>\n",
       "      <th>Product_Category_2_18.0</th>\n",
       "      <th>Product_Category_2_Others</th>\n",
       "    </tr>\n",
       "  </thead>\n",
       "  <tbody>\n",
       "    <tr>\n",
       "      <th>0</th>\n",
       "      <td>1</td>\n",
       "      <td>0</td>\n",
       "      <td>1</td>\n",
       "      <td>0</td>\n",
       "      <td>0</td>\n",
       "      <td>0</td>\n",
       "      <td>0</td>\n",
       "      <td>0</td>\n",
       "      <td>0</td>\n",
       "      <td>0</td>\n",
       "      <td>...</td>\n",
       "      <td>0</td>\n",
       "      <td>0</td>\n",
       "      <td>0</td>\n",
       "      <td>0</td>\n",
       "      <td>0</td>\n",
       "      <td>0</td>\n",
       "      <td>0</td>\n",
       "      <td>0</td>\n",
       "      <td>0</td>\n",
       "      <td>1</td>\n",
       "    </tr>\n",
       "    <tr>\n",
       "      <th>1</th>\n",
       "      <td>1</td>\n",
       "      <td>0</td>\n",
       "      <td>1</td>\n",
       "      <td>0</td>\n",
       "      <td>0</td>\n",
       "      <td>0</td>\n",
       "      <td>0</td>\n",
       "      <td>0</td>\n",
       "      <td>0</td>\n",
       "      <td>0</td>\n",
       "      <td>...</td>\n",
       "      <td>0</td>\n",
       "      <td>0</td>\n",
       "      <td>0</td>\n",
       "      <td>0</td>\n",
       "      <td>0</td>\n",
       "      <td>0</td>\n",
       "      <td>0</td>\n",
       "      <td>0</td>\n",
       "      <td>0</td>\n",
       "      <td>0</td>\n",
       "    </tr>\n",
       "    <tr>\n",
       "      <th>2</th>\n",
       "      <td>1</td>\n",
       "      <td>0</td>\n",
       "      <td>1</td>\n",
       "      <td>0</td>\n",
       "      <td>0</td>\n",
       "      <td>0</td>\n",
       "      <td>0</td>\n",
       "      <td>0</td>\n",
       "      <td>0</td>\n",
       "      <td>0</td>\n",
       "      <td>...</td>\n",
       "      <td>0</td>\n",
       "      <td>0</td>\n",
       "      <td>0</td>\n",
       "      <td>0</td>\n",
       "      <td>0</td>\n",
       "      <td>0</td>\n",
       "      <td>0</td>\n",
       "      <td>0</td>\n",
       "      <td>0</td>\n",
       "      <td>1</td>\n",
       "    </tr>\n",
       "    <tr>\n",
       "      <th>3</th>\n",
       "      <td>1</td>\n",
       "      <td>0</td>\n",
       "      <td>1</td>\n",
       "      <td>0</td>\n",
       "      <td>0</td>\n",
       "      <td>0</td>\n",
       "      <td>0</td>\n",
       "      <td>0</td>\n",
       "      <td>0</td>\n",
       "      <td>0</td>\n",
       "      <td>...</td>\n",
       "      <td>0</td>\n",
       "      <td>0</td>\n",
       "      <td>0</td>\n",
       "      <td>0</td>\n",
       "      <td>1</td>\n",
       "      <td>0</td>\n",
       "      <td>0</td>\n",
       "      <td>0</td>\n",
       "      <td>0</td>\n",
       "      <td>0</td>\n",
       "    </tr>\n",
       "  </tbody>\n",
       "</table>\n",
       "<p>4 rows × 76 columns</p>\n",
       "</div>"
      ],
      "text/plain": [
       "   Gender_F  Gender_M  Age_0-17  Age_18-25  Age_26-35  Age_36-45  Age_46-50  \\\n",
       "0         1         0         1          0          0          0          0   \n",
       "1         1         0         1          0          0          0          0   \n",
       "2         1         0         1          0          0          0          0   \n",
       "3         1         0         1          0          0          0          0   \n",
       "\n",
       "   Age_51-55  Age_55+  Occupation_0  ...  Product_Category_2_10.0  \\\n",
       "0          0        0             0  ...                        0   \n",
       "1          0        0             0  ...                        0   \n",
       "2          0        0             0  ...                        0   \n",
       "3          0        0             0  ...                        0   \n",
       "\n",
       "   Product_Category_2_11.0  Product_Category_2_12.0  Product_Category_2_13.0  \\\n",
       "0                        0                        0                        0   \n",
       "1                        0                        0                        0   \n",
       "2                        0                        0                        0   \n",
       "3                        0                        0                        0   \n",
       "\n",
       "   Product_Category_2_14.0  Product_Category_2_15.0  Product_Category_2_16.0  \\\n",
       "0                        0                        0                        0   \n",
       "1                        0                        0                        0   \n",
       "2                        0                        0                        0   \n",
       "3                        1                        0                        0   \n",
       "\n",
       "   Product_Category_2_17.0  Product_Category_2_18.0  Product_Category_2_Others  \n",
       "0                        0                        0                          1  \n",
       "1                        0                        0                          0  \n",
       "2                        0                        0                          1  \n",
       "3                        0                        0                          0  \n",
       "\n",
       "[4 rows x 76 columns]"
      ]
     },
     "execution_count": 39,
     "metadata": {},
     "output_type": "execute_result"
    }
   ],
   "source": [
    "X1.head(4)"
   ]
  },
  {
   "cell_type": "code",
   "execution_count": 40,
   "id": "68826216",
   "metadata": {},
   "outputs": [],
   "source": [
    "from sklearn.preprocessing import MinMaxScaler\n",
    "scaler = MinMaxScaler().fit(X1)\n",
    "scaled_data=scaler.transform(X1)"
   ]
  },
  {
   "cell_type": "code",
   "execution_count": 41,
   "id": "4fca5bc8",
   "metadata": {},
   "outputs": [
    {
     "data": {
      "text/html": [
       "<div>\n",
       "<style scoped>\n",
       "    .dataframe tbody tr th:only-of-type {\n",
       "        vertical-align: middle;\n",
       "    }\n",
       "\n",
       "    .dataframe tbody tr th {\n",
       "        vertical-align: top;\n",
       "    }\n",
       "\n",
       "    .dataframe thead th {\n",
       "        text-align: right;\n",
       "    }\n",
       "</style>\n",
       "<table border=\"1\" class=\"dataframe\">\n",
       "  <thead>\n",
       "    <tr style=\"text-align: right;\">\n",
       "      <th></th>\n",
       "      <th>0</th>\n",
       "      <th>1</th>\n",
       "      <th>2</th>\n",
       "      <th>3</th>\n",
       "      <th>4</th>\n",
       "      <th>5</th>\n",
       "      <th>6</th>\n",
       "      <th>7</th>\n",
       "      <th>8</th>\n",
       "      <th>9</th>\n",
       "      <th>...</th>\n",
       "      <th>66</th>\n",
       "      <th>67</th>\n",
       "      <th>68</th>\n",
       "      <th>69</th>\n",
       "      <th>70</th>\n",
       "      <th>71</th>\n",
       "      <th>72</th>\n",
       "      <th>73</th>\n",
       "      <th>74</th>\n",
       "      <th>75</th>\n",
       "    </tr>\n",
       "  </thead>\n",
       "  <tbody>\n",
       "    <tr>\n",
       "      <th>0</th>\n",
       "      <td>1.0</td>\n",
       "      <td>0.0</td>\n",
       "      <td>1.0</td>\n",
       "      <td>0.0</td>\n",
       "      <td>0.0</td>\n",
       "      <td>0.0</td>\n",
       "      <td>0.0</td>\n",
       "      <td>0.0</td>\n",
       "      <td>0.0</td>\n",
       "      <td>0.0</td>\n",
       "      <td>...</td>\n",
       "      <td>0.0</td>\n",
       "      <td>0.0</td>\n",
       "      <td>0.0</td>\n",
       "      <td>0.0</td>\n",
       "      <td>0.0</td>\n",
       "      <td>0.0</td>\n",
       "      <td>0.0</td>\n",
       "      <td>0.0</td>\n",
       "      <td>0.0</td>\n",
       "      <td>1.0</td>\n",
       "    </tr>\n",
       "    <tr>\n",
       "      <th>1</th>\n",
       "      <td>1.0</td>\n",
       "      <td>0.0</td>\n",
       "      <td>1.0</td>\n",
       "      <td>0.0</td>\n",
       "      <td>0.0</td>\n",
       "      <td>0.0</td>\n",
       "      <td>0.0</td>\n",
       "      <td>0.0</td>\n",
       "      <td>0.0</td>\n",
       "      <td>0.0</td>\n",
       "      <td>...</td>\n",
       "      <td>0.0</td>\n",
       "      <td>0.0</td>\n",
       "      <td>0.0</td>\n",
       "      <td>0.0</td>\n",
       "      <td>0.0</td>\n",
       "      <td>0.0</td>\n",
       "      <td>0.0</td>\n",
       "      <td>0.0</td>\n",
       "      <td>0.0</td>\n",
       "      <td>0.0</td>\n",
       "    </tr>\n",
       "    <tr>\n",
       "      <th>2</th>\n",
       "      <td>1.0</td>\n",
       "      <td>0.0</td>\n",
       "      <td>1.0</td>\n",
       "      <td>0.0</td>\n",
       "      <td>0.0</td>\n",
       "      <td>0.0</td>\n",
       "      <td>0.0</td>\n",
       "      <td>0.0</td>\n",
       "      <td>0.0</td>\n",
       "      <td>0.0</td>\n",
       "      <td>...</td>\n",
       "      <td>0.0</td>\n",
       "      <td>0.0</td>\n",
       "      <td>0.0</td>\n",
       "      <td>0.0</td>\n",
       "      <td>0.0</td>\n",
       "      <td>0.0</td>\n",
       "      <td>0.0</td>\n",
       "      <td>0.0</td>\n",
       "      <td>0.0</td>\n",
       "      <td>1.0</td>\n",
       "    </tr>\n",
       "    <tr>\n",
       "      <th>3</th>\n",
       "      <td>1.0</td>\n",
       "      <td>0.0</td>\n",
       "      <td>1.0</td>\n",
       "      <td>0.0</td>\n",
       "      <td>0.0</td>\n",
       "      <td>0.0</td>\n",
       "      <td>0.0</td>\n",
       "      <td>0.0</td>\n",
       "      <td>0.0</td>\n",
       "      <td>0.0</td>\n",
       "      <td>...</td>\n",
       "      <td>0.0</td>\n",
       "      <td>0.0</td>\n",
       "      <td>0.0</td>\n",
       "      <td>0.0</td>\n",
       "      <td>1.0</td>\n",
       "      <td>0.0</td>\n",
       "      <td>0.0</td>\n",
       "      <td>0.0</td>\n",
       "      <td>0.0</td>\n",
       "      <td>0.0</td>\n",
       "    </tr>\n",
       "    <tr>\n",
       "      <th>4</th>\n",
       "      <td>0.0</td>\n",
       "      <td>1.0</td>\n",
       "      <td>0.0</td>\n",
       "      <td>0.0</td>\n",
       "      <td>0.0</td>\n",
       "      <td>0.0</td>\n",
       "      <td>0.0</td>\n",
       "      <td>0.0</td>\n",
       "      <td>1.0</td>\n",
       "      <td>0.0</td>\n",
       "      <td>...</td>\n",
       "      <td>0.0</td>\n",
       "      <td>0.0</td>\n",
       "      <td>0.0</td>\n",
       "      <td>0.0</td>\n",
       "      <td>0.0</td>\n",
       "      <td>0.0</td>\n",
       "      <td>0.0</td>\n",
       "      <td>0.0</td>\n",
       "      <td>0.0</td>\n",
       "      <td>1.0</td>\n",
       "    </tr>\n",
       "  </tbody>\n",
       "</table>\n",
       "<p>5 rows × 76 columns</p>\n",
       "</div>"
      ],
      "text/plain": [
       "    0    1    2    3    4    5    6    7    8    9   ...   66   67   68   69  \\\n",
       "0  1.0  0.0  1.0  0.0  0.0  0.0  0.0  0.0  0.0  0.0  ...  0.0  0.0  0.0  0.0   \n",
       "1  1.0  0.0  1.0  0.0  0.0  0.0  0.0  0.0  0.0  0.0  ...  0.0  0.0  0.0  0.0   \n",
       "2  1.0  0.0  1.0  0.0  0.0  0.0  0.0  0.0  0.0  0.0  ...  0.0  0.0  0.0  0.0   \n",
       "3  1.0  0.0  1.0  0.0  0.0  0.0  0.0  0.0  0.0  0.0  ...  0.0  0.0  0.0  0.0   \n",
       "4  0.0  1.0  0.0  0.0  0.0  0.0  0.0  0.0  1.0  0.0  ...  0.0  0.0  0.0  0.0   \n",
       "\n",
       "    70   71   72   73   74   75  \n",
       "0  0.0  0.0  0.0  0.0  0.0  1.0  \n",
       "1  0.0  0.0  0.0  0.0  0.0  0.0  \n",
       "2  0.0  0.0  0.0  0.0  0.0  1.0  \n",
       "3  1.0  0.0  0.0  0.0  0.0  0.0  \n",
       "4  0.0  0.0  0.0  0.0  0.0  1.0  \n",
       "\n",
       "[5 rows x 76 columns]"
      ]
     },
     "execution_count": 41,
     "metadata": {},
     "output_type": "execute_result"
    }
   ],
   "source": [
    "x= pd.DataFrame(scaled_data)\n",
    "x.head()"
   ]
  },
  {
   "cell_type": "code",
   "execution_count": 42,
   "id": "0968b7ba",
   "metadata": {},
   "outputs": [],
   "source": [
    "y=blk.Purchase"
   ]
  },
  {
   "cell_type": "code",
   "execution_count": 43,
   "id": "b9dbca3d",
   "metadata": {
    "scrolled": true
   },
   "outputs": [],
   "source": [
    "x_train,x_test,y_train,y_test= train_test_split(x,y,train_size = 0.8, test_size = 0.2,random_state =50)"
   ]
  },
  {
   "cell_type": "code",
   "execution_count": 44,
   "id": "cfc34d03",
   "metadata": {},
   "outputs": [],
   "source": [
    "from sklearn.decomposition import PCA"
   ]
  },
  {
   "cell_type": "code",
   "execution_count": 45,
   "id": "c2135385",
   "metadata": {},
   "outputs": [
    {
     "data": {
      "text/plain": [
       "PCA()"
      ]
     },
     "execution_count": 45,
     "metadata": {},
     "output_type": "execute_result"
    }
   ],
   "source": [
    "pca=PCA()\n",
    "pca.fit(x_train)"
   ]
  },
  {
   "cell_type": "code",
   "execution_count": 46,
   "id": "bbddf5ae",
   "metadata": {},
   "outputs": [],
   "source": [
    "ratio=pca.explained_variance_ratio_"
   ]
  },
  {
   "cell_type": "code",
   "execution_count": 47,
   "id": "8892f010",
   "metadata": {},
   "outputs": [
    {
     "data": {
      "text/plain": [
       "(76,)"
      ]
     },
     "execution_count": 47,
     "metadata": {},
     "output_type": "execute_result"
    }
   ],
   "source": [
    "ratio.shape"
   ]
  },
  {
   "cell_type": "code",
   "execution_count": 48,
   "id": "415c219d",
   "metadata": {},
   "outputs": [
    {
     "data": {
      "text/plain": [
       "[<matplotlib.lines.Line2D at 0x1b3b004f250>]"
      ]
     },
     "execution_count": 48,
     "metadata": {},
     "output_type": "execute_result"
    },
    {
     "data": {
      "image/png": "[encoded data removed]",
      "text/plain": [
       "<Figure size 432x288 with 1 Axes>"
      ]
     },
     "metadata": {
      "needs_background": "light"
     },
     "output_type": "display_data"
    }
   ],
   "source": [
    "plt.plot(ratio)"
   ]
  },
  {
   "cell_type": "code",
   "execution_count": 49,
   "id": "1b4b563a",
   "metadata": {},
   "outputs": [],
   "source": [
    "import numpy as np"
   ]
  },
  {
   "cell_type": "code",
   "execution_count": 50,
   "id": "36223318",
   "metadata": {},
   "outputs": [],
   "source": [
    "ratio_cum=np.cumsum(ratio)"
   ]
  },
  {
   "cell_type": "code",
   "execution_count": 51,
   "id": "c44662ec",
   "metadata": {},
   "outputs": [
    {
     "data": {
      "text/plain": [
       "[<matplotlib.lines.Line2D at 0x1b3b04e4340>]"
      ]
     },
     "execution_count": 51,
     "metadata": {},
     "output_type": "execute_result"
    },
    {
     "data": {
      "image/png": "[encoded data removed]",
      "text/plain": [
       "<Figure size 432x288 with 1 Axes>"
      ]
     },
     "metadata": {
      "needs_background": "light"
     },
     "output_type": "display_data"
    }
   ],
   "source": [
    "plt.plot(ratio_cum)"
   ]
  },
  {
   "cell_type": "markdown",
   "id": "66a25ed4",
   "metadata": {},
   "source": [
    "<h1>Principle component analysis<h1>"
   ]
  },
  {
   "cell_type": "code",
   "execution_count": 52,
   "id": "497ff878",
   "metadata": {},
   "outputs": [],
   "source": [
    "pca=PCA(n_components=56).fit(x_train)\n",
    "components=pca.transform(x_train)"
   ]
  },
  {
   "cell_type": "code",
   "execution_count": 53,
   "id": "5dbc2970",
   "metadata": {},
   "outputs": [],
   "source": [
    "components=pd.DataFrame(components)"
   ]
  },
  {
   "cell_type": "code",
   "execution_count": 54,
   "id": "b872ccf5",
   "metadata": {},
   "outputs": [
    {
     "data": {
      "text/html": [
       "<div>\n",
       "<style scoped>\n",
       "    .dataframe tbody tr th:only-of-type {\n",
       "        vertical-align: middle;\n",
       "    }\n",
       "\n",
       "    .dataframe tbody tr th {\n",
       "        vertical-align: top;\n",
       "    }\n",
       "\n",
       "    .dataframe thead th {\n",
       "        text-align: right;\n",
       "    }\n",
       "</style>\n",
       "<table border=\"1\" class=\"dataframe\">\n",
       "  <thead>\n",
       "    <tr style=\"text-align: right;\">\n",
       "      <th></th>\n",
       "      <th>0</th>\n",
       "      <th>1</th>\n",
       "      <th>2</th>\n",
       "      <th>3</th>\n",
       "      <th>4</th>\n",
       "      <th>5</th>\n",
       "      <th>6</th>\n",
       "      <th>7</th>\n",
       "      <th>8</th>\n",
       "      <th>9</th>\n",
       "      <th>...</th>\n",
       "      <th>46</th>\n",
       "      <th>47</th>\n",
       "      <th>48</th>\n",
       "      <th>49</th>\n",
       "      <th>50</th>\n",
       "      <th>51</th>\n",
       "      <th>52</th>\n",
       "      <th>53</th>\n",
       "      <th>54</th>\n",
       "      <th>55</th>\n",
       "    </tr>\n",
       "  </thead>\n",
       "  <tbody>\n",
       "    <tr>\n",
       "      <th>0</th>\n",
       "      <td>-0.732046</td>\n",
       "      <td>0.089926</td>\n",
       "      <td>0.166775</td>\n",
       "      <td>1.391401</td>\n",
       "      <td>0.038641</td>\n",
       "      <td>-0.408366</td>\n",
       "      <td>0.029763</td>\n",
       "      <td>0.451130</td>\n",
       "      <td>-0.127233</td>\n",
       "      <td>-0.692682</td>\n",
       "      <td>...</td>\n",
       "      <td>0.027031</td>\n",
       "      <td>0.011187</td>\n",
       "      <td>-0.015981</td>\n",
       "      <td>-0.001792</td>\n",
       "      <td>-0.022746</td>\n",
       "      <td>0.011659</td>\n",
       "      <td>0.004663</td>\n",
       "      <td>0.004769</td>\n",
       "      <td>0.001230</td>\n",
       "      <td>-0.006167</td>\n",
       "    </tr>\n",
       "    <tr>\n",
       "      <th>1</th>\n",
       "      <td>0.711247</td>\n",
       "      <td>-0.551060</td>\n",
       "      <td>0.156823</td>\n",
       "      <td>0.802181</td>\n",
       "      <td>0.674993</td>\n",
       "      <td>-0.561832</td>\n",
       "      <td>0.239413</td>\n",
       "      <td>0.046565</td>\n",
       "      <td>-0.022926</td>\n",
       "      <td>0.766880</td>\n",
       "      <td>...</td>\n",
       "      <td>0.050266</td>\n",
       "      <td>-0.024145</td>\n",
       "      <td>0.095417</td>\n",
       "      <td>0.023600</td>\n",
       "      <td>-0.011742</td>\n",
       "      <td>0.011453</td>\n",
       "      <td>0.021328</td>\n",
       "      <td>-0.008996</td>\n",
       "      <td>0.027435</td>\n",
       "      <td>-0.051839</td>\n",
       "    </tr>\n",
       "    <tr>\n",
       "      <th>2</th>\n",
       "      <td>-0.431677</td>\n",
       "      <td>1.079199</td>\n",
       "      <td>-0.508300</td>\n",
       "      <td>-0.236325</td>\n",
       "      <td>0.828707</td>\n",
       "      <td>0.754747</td>\n",
       "      <td>-0.145190</td>\n",
       "      <td>-0.726552</td>\n",
       "      <td>-0.070688</td>\n",
       "      <td>0.135688</td>\n",
       "      <td>...</td>\n",
       "      <td>-0.076407</td>\n",
       "      <td>-0.054183</td>\n",
       "      <td>-0.051908</td>\n",
       "      <td>-0.035024</td>\n",
       "      <td>-0.044491</td>\n",
       "      <td>-0.045104</td>\n",
       "      <td>-0.029666</td>\n",
       "      <td>0.004526</td>\n",
       "      <td>0.062787</td>\n",
       "      <td>-0.034886</td>\n",
       "    </tr>\n",
       "    <tr>\n",
       "      <th>3</th>\n",
       "      <td>1.020661</td>\n",
       "      <td>0.877748</td>\n",
       "      <td>-0.467498</td>\n",
       "      <td>-0.845743</td>\n",
       "      <td>0.336415</td>\n",
       "      <td>0.447046</td>\n",
       "      <td>0.318073</td>\n",
       "      <td>0.055317</td>\n",
       "      <td>-0.052335</td>\n",
       "      <td>0.062845</td>\n",
       "      <td>...</td>\n",
       "      <td>-0.075311</td>\n",
       "      <td>-0.029482</td>\n",
       "      <td>-0.006211</td>\n",
       "      <td>0.010566</td>\n",
       "      <td>-0.018740</td>\n",
       "      <td>-0.039648</td>\n",
       "      <td>-0.038737</td>\n",
       "      <td>-0.009446</td>\n",
       "      <td>-0.019870</td>\n",
       "      <td>0.006343</td>\n",
       "    </tr>\n",
       "    <tr>\n",
       "      <th>4</th>\n",
       "      <td>-0.653658</td>\n",
       "      <td>-0.502109</td>\n",
       "      <td>0.168687</td>\n",
       "      <td>0.780161</td>\n",
       "      <td>0.625431</td>\n",
       "      <td>-0.367476</td>\n",
       "      <td>0.039122</td>\n",
       "      <td>-0.096095</td>\n",
       "      <td>0.362091</td>\n",
       "      <td>-0.566969</td>\n",
       "      <td>...</td>\n",
       "      <td>-0.073227</td>\n",
       "      <td>0.005081</td>\n",
       "      <td>0.000752</td>\n",
       "      <td>0.023879</td>\n",
       "      <td>-0.014753</td>\n",
       "      <td>0.008203</td>\n",
       "      <td>-0.032609</td>\n",
       "      <td>-0.000966</td>\n",
       "      <td>-0.016267</td>\n",
       "      <td>0.004890</td>\n",
       "    </tr>\n",
       "  </tbody>\n",
       "</table>\n",
       "<p>5 rows × 56 columns</p>\n",
       "</div>"
      ],
      "text/plain": [
       "         0         1         2         3         4         5         6   \\\n",
       "0 -0.732046  0.089926  0.166775  1.391401  0.038641 -0.408366  0.029763   \n",
       "1  0.711247 -0.551060  0.156823  0.802181  0.674993 -0.561832  0.239413   \n",
       "2 -0.431677  1.079199 -0.508300 -0.236325  0.828707  0.754747 -0.145190   \n",
       "3  1.020661  0.877748 -0.467498 -0.845743  0.336415  0.447046  0.318073   \n",
       "4 -0.653658 -0.502109  0.168687  0.780161  0.625431 -0.367476  0.039122   \n",
       "\n",
       "         7         8         9   ...        46        47        48        49  \\\n",
       "0  0.451130 -0.127233 -0.692682  ...  0.027031  0.011187 -0.015981 -0.001792   \n",
       "1  0.046565 -0.022926  0.766880  ...  0.050266 -0.024145  0.095417  0.023600   \n",
       "2 -0.726552 -0.070688  0.135688  ... -0.076407 -0.054183 -0.051908 -0.035024   \n",
       "3  0.055317 -0.052335  0.062845  ... -0.075311 -0.029482 -0.006211  0.010566   \n",
       "4 -0.096095  0.362091 -0.566969  ... -0.073227  0.005081  0.000752  0.023879   \n",
       "\n",
       "         50        51        52        53        54        55  \n",
       "0 -0.022746  0.011659  0.004663  0.004769  0.001230 -0.006167  \n",
       "1 -0.011742  0.011453  0.021328 -0.008996  0.027435 -0.051839  \n",
       "2 -0.044491 -0.045104 -0.029666  0.004526  0.062787 -0.034886  \n",
       "3 -0.018740 -0.039648 -0.038737 -0.009446 -0.019870  0.006343  \n",
       "4 -0.014753  0.008203 -0.032609 -0.000966 -0.016267  0.004890  \n",
       "\n",
       "[5 rows x 56 columns]"
      ]
     },
     "execution_count": 54,
     "metadata": {},
     "output_type": "execute_result"
    }
   ],
   "source": [
    "components.head()"
   ]
  },
  {
   "cell_type": "markdown",
   "id": "cf489251",
   "metadata": {},
   "source": [
    "<h2>Linear Regression</h2>"
   ]
  },
  {
   "cell_type": "code",
   "execution_count": 55,
   "id": "02813959",
   "metadata": {},
   "outputs": [],
   "source": [
    "from sklearn.linear_model import LinearRegression\n",
    "from sklearn.ensemble import GradientBoostingRegressor\n",
    "from sklearn.ensemble import RandomForestRegressor\n",
    "from sklearn.tree import DecisionTreeRegressor"
   ]
  },
  {
   "cell_type": "code",
   "execution_count": 63,
   "id": "ff134f8b",
   "metadata": {},
   "outputs": [],
   "source": [
    "model=LinearRegression().fit(x,y)"
   ]
  },
  {
   "cell_type": "code",
   "execution_count": 64,
   "id": "3e6a3a93",
   "metadata": {},
   "outputs": [
    {
     "data": {
      "text/plain": [
       "0.6340395131499134"
      ]
     },
     "execution_count": 64,
     "metadata": {},
     "output_type": "execute_result"
    }
   ],
   "source": [
    "model.score(x,y)"
   ]
  },
  {
   "cell_type": "code",
   "execution_count": 56,
   "id": "8f976092",
   "metadata": {},
   "outputs": [
    {
     "name": "stdout",
     "output_type": "stream",
     "text": [
      "Train Score = 0.6337728388728969\n",
      "Test Score = 0.6350383625722666\n"
     ]
    }
   ],
   "source": [
    "model=LinearRegression().fit(x_train,y_train)\n",
    "print(\"Train Score =\",model.score(x_train,y_train))\n",
    "print(\"Test Score =\",model.score(x_test,y_test))"
   ]
  },
  {
   "cell_type": "code",
   "execution_count": 65,
   "id": "5ecba350",
   "metadata": {},
   "outputs": [],
   "source": [
    "import pickle"
   ]
  },
  {
   "cell_type": "code",
   "execution_count": 66,
   "id": "eba38c2c",
   "metadata": {},
   "outputs": [],
   "source": [
    "file=open('linear_regression.pkl','wb')"
   ]
  },
  {
   "cell_type": "code",
   "execution_count": 76,
   "id": "0eca34e5",
   "metadata": {},
   "outputs": [],
   "source": [
    "pickle.dump(model,file)"
   ]
  },
  {
   "cell_type": "markdown",
   "id": "bb76a474",
   "metadata": {},
   "source": [
    "<h2>DecisionTreeRegressor</h2>"
   ]
  },
  {
   "cell_type": "code",
   "execution_count": 57,
   "id": "55b01501",
   "metadata": {},
   "outputs": [
    {
     "name": "stdout",
     "output_type": "stream",
     "text": [
      "Train Score = 0.7414397697107934\n",
      "Test Score = 0.6001273320250664\n"
     ]
    }
   ],
   "source": [
    "model1=DecisionTreeRegressor().fit(x_train,y_train)\n",
    "print(\"Train Score =\",model1.score(x_train,y_train))\n",
    "print(\"Test Score =\",model1.score(x_test,y_test))"
   ]
  },
  {
   "cell_type": "markdown",
   "id": "10764eb8",
   "metadata": {},
   "source": [
    "<h2>RandomForestRegressor</h2>"
   ]
  },
  {
   "cell_type": "code",
   "execution_count": 58,
   "id": "39861264",
   "metadata": {},
   "outputs": [
    {
     "data": {
      "text/plain": [
       "RandomForestRegressor(n_estimators=10, random_state=0)"
      ]
     },
     "execution_count": 58,
     "metadata": {},
     "output_type": "execute_result"
    }
   ],
   "source": [
    "from sklearn.ensemble import RandomForestRegressor\n",
    "regressor = RandomForestRegressor(n_estimators=10,random_state=0)\n",
    "regressor.fit(x_train,y_train)\n"
   ]
  },
  {
   "cell_type": "code",
   "execution_count": 59,
   "id": "f3d3c78b",
   "metadata": {},
   "outputs": [],
   "source": [
    " y_pred=regressor.predict(x_test)\n"
   ]
  },
  {
   "cell_type": "code",
   "execution_count": 60,
   "id": "5c066119",
   "metadata": {},
   "outputs": [
    {
     "data": {
      "text/plain": [
       "0.7316611288308819"
      ]
     },
     "execution_count": 60,
     "metadata": {},
     "output_type": "execute_result"
    }
   ],
   "source": [
    "regressor.score(x_train,y_train)\n"
   ]
  },
  {
   "cell_type": "code",
   "execution_count": 61,
   "id": "a7f4cd8b",
   "metadata": {},
   "outputs": [
    {
     "data": {
      "text/plain": [
       "0.6272810366428978"
      ]
     },
     "execution_count": 61,
     "metadata": {},
     "output_type": "execute_result"
    }
   ],
   "source": [
    "regressor.score(x_test,y_test)\n"
   ]
  },
  {
   "cell_type": "code",
   "execution_count": null,
   "id": "cd6c4689",
   "metadata": {},
   "outputs": [],
   "source": []
  }
 ],
 "metadata": {
  "kernelspec": {
   "display_name": "Python 3 (ipykernel)",
   "language": "python",
   "name": "python3"
  },
  "language_info": {
   "codemirror_mode": {
    "name": "ipython",
    "version": 3
   },
   "file_extension": ".py",
   "mimetype": "text/x-python",
   "name": "python",
   "nbconvert_exporter": "python",
   "pygments_lexer": "ipython3",
   "version": "3.9.7"
  }
 },
 "nbformat": 4,
 "nbformat_minor": 5
}
